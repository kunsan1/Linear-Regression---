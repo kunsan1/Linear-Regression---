{
 "cells": [
  {
   "cell_type": "code",
   "execution_count": 1,
   "id": "8948d561",
   "metadata": {},
   "outputs": [],
   "source": [
    "#imports\n",
    "import pandas as pd\n",
    "import numpy as np\n",
    "import matplotlib.pyplot as plt\n",
    "import seaborn as sns"
   ]
  },
  {
   "cell_type": "code",
   "execution_count": 2,
   "id": "b7321fb1",
   "metadata": {},
   "outputs": [
    {
     "data": {
      "text/html": [
       "<div>\n",
       "<style scoped>\n",
       "    .dataframe tbody tr th:only-of-type {\n",
       "        vertical-align: middle;\n",
       "    }\n",
       "\n",
       "    .dataframe tbody tr th {\n",
       "        vertical-align: top;\n",
       "    }\n",
       "\n",
       "    .dataframe thead th {\n",
       "        text-align: right;\n",
       "    }\n",
       "</style>\n",
       "<table border=\"1\" class=\"dataframe\">\n",
       "  <thead>\n",
       "    <tr style=\"text-align: right;\">\n",
       "      <th></th>\n",
       "      <th>TV</th>\n",
       "      <th>radio</th>\n",
       "      <th>newspaper</th>\n",
       "      <th>sales</th>\n",
       "    </tr>\n",
       "  </thead>\n",
       "  <tbody>\n",
       "    <tr>\n",
       "      <th>1</th>\n",
       "      <td>230.1</td>\n",
       "      <td>37.8</td>\n",
       "      <td>69.2</td>\n",
       "      <td>22.1</td>\n",
       "    </tr>\n",
       "    <tr>\n",
       "      <th>2</th>\n",
       "      <td>44.5</td>\n",
       "      <td>39.3</td>\n",
       "      <td>45.1</td>\n",
       "      <td>10.4</td>\n",
       "    </tr>\n",
       "    <tr>\n",
       "      <th>3</th>\n",
       "      <td>17.2</td>\n",
       "      <td>45.9</td>\n",
       "      <td>69.3</td>\n",
       "      <td>9.3</td>\n",
       "    </tr>\n",
       "    <tr>\n",
       "      <th>4</th>\n",
       "      <td>151.5</td>\n",
       "      <td>41.3</td>\n",
       "      <td>58.5</td>\n",
       "      <td>18.5</td>\n",
       "    </tr>\n",
       "    <tr>\n",
       "      <th>5</th>\n",
       "      <td>180.8</td>\n",
       "      <td>10.8</td>\n",
       "      <td>58.4</td>\n",
       "      <td>12.9</td>\n",
       "    </tr>\n",
       "  </tbody>\n",
       "</table>\n",
       "</div>"
      ],
      "text/plain": [
       "      TV  radio  newspaper  sales\n",
       "1  230.1   37.8       69.2   22.1\n",
       "2   44.5   39.3       45.1   10.4\n",
       "3   17.2   45.9       69.3    9.3\n",
       "4  151.5   41.3       58.5   18.5\n",
       "5  180.8   10.8       58.4   12.9"
      ]
     },
     "execution_count": 2,
     "metadata": {},
     "output_type": "execute_result"
    }
   ],
   "source": [
    "#read data  into a dataframe\n",
    "data = pd.read_csv(r'Advertising.csv',index_col=0,header=0)\n",
    "data.head()"
   ]
  },
  {
   "cell_type": "code",
   "execution_count": 3,
   "id": "5b887c00",
   "metadata": {},
   "outputs": [
    {
     "data": {
      "text/html": [
       "<div>\n",
       "<style scoped>\n",
       "    .dataframe tbody tr th:only-of-type {\n",
       "        vertical-align: middle;\n",
       "    }\n",
       "\n",
       "    .dataframe tbody tr th {\n",
       "        vertical-align: top;\n",
       "    }\n",
       "\n",
       "    .dataframe thead th {\n",
       "        text-align: right;\n",
       "    }\n",
       "</style>\n",
       "<table border=\"1\" class=\"dataframe\">\n",
       "  <thead>\n",
       "    <tr style=\"text-align: right;\">\n",
       "      <th></th>\n",
       "      <th>TV</th>\n",
       "      <th>radio</th>\n",
       "      <th>newspaper</th>\n",
       "      <th>sales</th>\n",
       "    </tr>\n",
       "  </thead>\n",
       "  <tbody>\n",
       "    <tr>\n",
       "      <th>count</th>\n",
       "      <td>200.000000</td>\n",
       "      <td>200.000000</td>\n",
       "      <td>200.000000</td>\n",
       "      <td>200.000000</td>\n",
       "    </tr>\n",
       "    <tr>\n",
       "      <th>mean</th>\n",
       "      <td>147.042500</td>\n",
       "      <td>23.264000</td>\n",
       "      <td>30.554000</td>\n",
       "      <td>14.022500</td>\n",
       "    </tr>\n",
       "    <tr>\n",
       "      <th>std</th>\n",
       "      <td>85.854236</td>\n",
       "      <td>14.846809</td>\n",
       "      <td>21.778621</td>\n",
       "      <td>5.217457</td>\n",
       "    </tr>\n",
       "    <tr>\n",
       "      <th>min</th>\n",
       "      <td>0.700000</td>\n",
       "      <td>0.000000</td>\n",
       "      <td>0.300000</td>\n",
       "      <td>1.600000</td>\n",
       "    </tr>\n",
       "    <tr>\n",
       "      <th>25%</th>\n",
       "      <td>74.375000</td>\n",
       "      <td>9.975000</td>\n",
       "      <td>12.750000</td>\n",
       "      <td>10.375000</td>\n",
       "    </tr>\n",
       "    <tr>\n",
       "      <th>50%</th>\n",
       "      <td>149.750000</td>\n",
       "      <td>22.900000</td>\n",
       "      <td>25.750000</td>\n",
       "      <td>12.900000</td>\n",
       "    </tr>\n",
       "    <tr>\n",
       "      <th>75%</th>\n",
       "      <td>218.825000</td>\n",
       "      <td>36.525000</td>\n",
       "      <td>45.100000</td>\n",
       "      <td>17.400000</td>\n",
       "    </tr>\n",
       "    <tr>\n",
       "      <th>max</th>\n",
       "      <td>296.400000</td>\n",
       "      <td>49.600000</td>\n",
       "      <td>114.000000</td>\n",
       "      <td>27.000000</td>\n",
       "    </tr>\n",
       "  </tbody>\n",
       "</table>\n",
       "</div>"
      ],
      "text/plain": [
       "               TV       radio   newspaper       sales\n",
       "count  200.000000  200.000000  200.000000  200.000000\n",
       "mean   147.042500   23.264000   30.554000   14.022500\n",
       "std     85.854236   14.846809   21.778621    5.217457\n",
       "min      0.700000    0.000000    0.300000    1.600000\n",
       "25%     74.375000    9.975000   12.750000   10.375000\n",
       "50%    149.750000   22.900000   25.750000   12.900000\n",
       "75%    218.825000   36.525000   45.100000   17.400000\n",
       "max    296.400000   49.600000  114.000000   27.000000"
      ]
     },
     "execution_count": 3,
     "metadata": {},
     "output_type": "execute_result"
    }
   ],
   "source": [
    "data.describe()"
   ]
  },
  {
   "cell_type": "code",
   "execution_count": 4,
   "id": "910026f2",
   "metadata": {},
   "outputs": [
    {
     "name": "stdout",
     "output_type": "stream",
     "text": [
      "TV           float64\n",
      "radio        float64\n",
      "newspaper    float64\n",
      "sales        float64\n",
      "dtype: object\n",
      "(200, 4)\n"
     ]
    }
   ],
   "source": [
    "print(data.dtypes)\n",
    "print(data.shape)\n"
   ]
  },
  {
   "cell_type": "code",
   "execution_count": 5,
   "id": "73b16900",
   "metadata": {},
   "outputs": [
    {
     "data": {
      "text/plain": [
       "TV           0\n",
       "radio        0\n",
       "newspaper    0\n",
       "sales        0\n",
       "dtype: int64"
      ]
     },
     "execution_count": 5,
     "metadata": {},
     "output_type": "execute_result"
    }
   ],
   "source": [
    " data.isnull().sum()"
   ]
  },
  {
   "cell_type": "code",
   "execution_count": 6,
   "id": "a131b5dd",
   "metadata": {},
   "outputs": [],
   "source": [
    "# data.boxplot()"
   ]
  },
  {
   "cell_type": "code",
   "execution_count": 7,
   "id": "45e7f851",
   "metadata": {},
   "outputs": [
    {
     "data": {
      "image/png": "[encoded data removed]",
      "text/plain": [
       "<Figure size 640x480 with 1 Axes>"
      ]
     },
     "metadata": {},
     "output_type": "display_data"
    }
   ],
   "source": [
    "#assumption 1 : THere should be no outliers in the data\n",
    "#Check using Boxplot\n",
    "for i in data.columns:\n",
    "    data.boxplot(column=i)\n",
    "    plt.show\n",
    "#we can eliminate the two records from newspaper column which are outliers\n",
    "#but they are not far from the whiskers so it is not a issue to keep it on the table \n",
    "#so as they are not extreme outliers too that's why we are not eliminating them "
   ]
  },
  {
   "cell_type": "code",
   "execution_count": 1,
   "id": "228b457e",
   "metadata": {},
   "outputs": [
    {
     "ename": "NameError",
     "evalue": "name 'sns' is not defined",
     "output_type": "error",
     "traceback": [
      "\u001b[1;31m---------------------------------------------------------------------------\u001b[0m",
      "\u001b[1;31mNameError\u001b[0m                                 Traceback (most recent call last)",
      "Cell \u001b[1;32mIn[1], line 3\u001b[0m\n\u001b[0;32m      1\u001b[0m \u001b[38;5;66;03m#Assumption 2: Assumption of Linearity : Every Ind  var should have a linear relationship with the dependent var.\u001b[39;00m\n\u001b[1;32m----> 3\u001b[0m \u001b[43msns\u001b[49m\u001b[38;5;241m.\u001b[39mpairplot(data,x_vars\u001b[38;5;241m=\u001b[39m[\u001b[38;5;124m'\u001b[39m\u001b[38;5;124mTV\u001b[39m\u001b[38;5;124m'\u001b[39m,\u001b[38;5;124m'\u001b[39m\u001b[38;5;124mnewspaper\u001b[39m\u001b[38;5;124m'\u001b[39m,\u001b[38;5;124m'\u001b[39m\u001b[38;5;124mradio\u001b[39m\u001b[38;5;124m'\u001b[39m],\n\u001b[0;32m      4\u001b[0m             y_vars\u001b[38;5;241m=\u001b[39m[\u001b[38;5;124m'\u001b[39m\u001b[38;5;124msales\u001b[39m\u001b[38;5;124m'\u001b[39m],kind\u001b[38;5;241m=\u001b[39m\u001b[38;5;124m'\u001b[39m\u001b[38;5;124mreg\u001b[39m\u001b[38;5;124m'\u001b[39m,size\u001b[38;5;241m=\u001b[39m\u001b[38;5;241m3\u001b[39m)\n\u001b[0;32m      5\u001b[0m plt\u001b[38;5;241m.\u001b[39mshow()\n",
      "\u001b[1;31mNameError\u001b[0m: name 'sns' is not defined"
     ]
    }
   ],
   "source": [
    "#Assumption 2: Assumption of Linearity : Every Ind  var should have a linear relationship with the dependent var.\n",
    "\n",
    "sns.pairplot(data,x_vars=['TV','newspaper','radio'],\n",
    "            y_vars=['sales'],kind='reg')\n",
    "plt.show()\n",
    "#if a variable (newspaper) is not showing a linear relationship with the dependent variable (sales) \n",
    "#so ideally we can eliminate it"
   ]
  },
  {
   "cell_type": "code",
   "execution_count": 9,
   "id": "039419de",
   "metadata": {},
   "outputs": [],
   "source": [
    "#data.drop(['newspaper'],axis=1,inplace=True) \n",
    "#we can eliminate a varible through this command if it does not show linear relationship with dep var."
   ]
  },
  {
   "cell_type": "code",
   "execution_count": 10,
   "id": "840a60f0",
   "metadata": {},
   "outputs": [
    {
     "data": {
      "text/plain": [
       "Index(['TV', 'radio', 'newspaper', 'sales'], dtype='object')"
      ]
     },
     "execution_count": 10,
     "metadata": {},
     "output_type": "execute_result"
    }
   ],
   "source": [
    "data.columns"
   ]
  },
  {
   "cell_type": "code",
   "execution_count": 11,
   "id": "22459cde",
   "metadata": {},
   "outputs": [],
   "source": [
    "#create X and y\n",
    "X = data.loc[:,['TV','radio','newspaper']]\n",
    "Y= data.loc[:,'sales']"
   ]
  },
  {
   "cell_type": "code",
   "execution_count": 12,
   "id": "67082536",
   "metadata": {},
   "outputs": [
    {
     "name": "stdout",
     "output_type": "stream",
     "text": [
      "(200, 3)\n",
      "(200,)\n"
     ]
    }
   ],
   "source": [
    "print(X.shape)\n",
    "print(Y.shape)"
   ]
  },
  {
   "cell_type": "code",
   "execution_count": 13,
   "id": "bf2d01a2",
   "metadata": {},
   "outputs": [],
   "source": [
    "import warnings\n",
    "warnings.filterwarnings(\"ignore\")"
   ]
  },
  {
   "cell_type": "code",
   "execution_count": 14,
   "id": "5c841717",
   "metadata": {},
   "outputs": [
    {
     "data": {
      "image/png": "[encoded data removed]",
      "text/plain": [
       "<Figure size 640x480 with 1 Axes>"
      ]
     },
     "metadata": {},
     "output_type": "display_data"
    }
   ],
   "source": [
    "#Assumption Of Normality : the dependent variable should follow an approximate normal distribution\n",
    "sns.distplot(Y)\n",
    "plt.show()\n",
    "# as we can see in the plot that our dep var is showing approximate normal distriution"
   ]
  },
  {
   "cell_type": "code",
   "execution_count": 15,
   "id": "ee648dfb",
   "metadata": {},
   "outputs": [
    {
     "data": {
      "text/plain": [
       "'\\nLog transformation:\\nimport numpy as np\\nY_log = np.log(Y)\\n'"
      ]
     },
     "execution_count": 15,
     "metadata": {},
     "output_type": "execute_result"
    }
   ],
   "source": [
    "#if the Y(dep) var does show a skewed distribution so we can use log transformation to make it a normal distribution\n",
    "'''\n",
    "Log transformation:\n",
    "import numpy as np\n",
    "Y_log = np.log(Y)\n",
    "'''\n",
    "#sns.distplot(Y_log,hist=True)\n",
    "#plt.show()"
   ]
  },
  {
   "cell_type": "code",
   "execution_count": 16,
   "id": "ee2ac67c",
   "metadata": {},
   "outputs": [
    {
     "data": {
      "image/png": "[encoded data removed]",
      "text/plain": [
       "<Figure size 640x480 with 4 Axes>"
      ]
     },
     "metadata": {},
     "output_type": "display_data"
    }
   ],
   "source": [
    "X.hist(bins=20)\n",
    "plt.show()\n",
    "#As its seem from the result the newspaper variable is right skewed"
   ]
  },
  {
   "cell_type": "code",
   "execution_count": 17,
   "id": "9863929f",
   "metadata": {},
   "outputs": [
    {
     "name": "stdout",
     "output_type": "stream",
     "text": [
      "TV          -0.069328\n",
      "radio        0.093467\n",
      "newspaper    0.887996\n",
      "dtype: float64\n",
      "newspaper    0.887996\n",
      "dtype: float64\n"
     ]
    }
   ],
   "source": [
    "from scipy.stats import skew\n",
    "#finding the skewness in each variable\n",
    "data_num_skew = X.apply(lambda i: skew(i.dropna()))\n",
    "#subsetting the variables that are highly skewed\n",
    "data_num_skewed = data_num_skew[(data_num_skew > .75) | (data_num_skew < -.75)]\n",
    " \n",
    "print(data_num_skew)\n",
    "print(data_num_skewed)\n",
    "import numpy as np\n",
    "# apply log + 1 transformation for all numeric features with skewness over .75\n",
    "X[data_num_skewed.index] = np.log1p(X[data_num_skewed.index])\n",
    "#if we perform log(0) we end up getting -inf as a value which will through an error at a later stage\n",
    "#in this case we can use log1p which will help us add 1 and then take a log transform to avoid -inf"
   ]
  },
  {
   "cell_type": "code",
   "execution_count": 18,
   "id": "03b0eaad",
   "metadata": {},
   "outputs": [
    {
     "data": {
      "image/png": "[encoded data removed]",
      "text/plain": [
       "<Figure size 640x480 with 1 Axes>"
      ]
     },
     "metadata": {},
     "output_type": "display_data"
    }
   ],
   "source": [
    "sns.distplot(X['newspaper'])\n",
    "plt.show()"
   ]
  },
  {
   "cell_type": "code",
   "execution_count": 19,
   "id": "90566504",
   "metadata": {},
   "outputs": [
    {
     "name": "stdout",
     "output_type": "stream",
     "text": [
      "                 TV     radio  newspaper\n",
      "TV         1.000000  0.054809   0.030951\n",
      "radio      0.054809  1.000000   0.251909\n",
      "newspaper  0.030951  0.251909   1.000000\n"
     ]
    },
    {
     "data": {
      "image/png": "[encoded data removed]",
      "text/plain": [
       "<Figure size 640x480 with 2 Axes>"
      ]
     },
     "metadata": {},
     "output_type": "display_data"
    }
   ],
   "source": [
    "#Assumption of no multicollinearity: There should be no multicollinearity \n",
    "#between the independent variables\n",
    "#multicollinearity is the relationship amongst the multiple independent variables\n",
    "corr_df=X.corr(method=\"pearson\")\n",
    "print(corr_df)\n",
    " \n",
    "sns.heatmap(corr_df,vmax=1.0,vmin=-1.0,annot=True)\n",
    "plt.show()\n"
   ]
  },
  {
   "cell_type": "code",
   "execution_count": 1,
   "id": "5349941e",
   "metadata": {},
   "outputs": [
    {
     "ename": "NameError",
     "evalue": "name 'pd' is not defined",
     "output_type": "error",
     "traceback": [
      "\u001b[1;31m---------------------------------------------------------------------------\u001b[0m",
      "\u001b[1;31mNameError\u001b[0m                                 Traceback (most recent call last)",
      "Cell \u001b[1;32mIn[1], line 3\u001b[0m\n\u001b[0;32m      1\u001b[0m \u001b[38;5;28;01mfrom\u001b[39;00m \u001b[38;5;21;01mstatsmodels\u001b[39;00m\u001b[38;5;21;01m.\u001b[39;00m\u001b[38;5;21;01mstats\u001b[39;00m\u001b[38;5;21;01m.\u001b[39;00m\u001b[38;5;21;01moutliers_influence\u001b[39;00m \u001b[38;5;28;01mimport\u001b[39;00m variance_inflation_factor \u001b[38;5;28;01mas\u001b[39;00m vif\n\u001b[1;32m----> 3\u001b[0m vif_df \u001b[38;5;241m=\u001b[39m \u001b[43mpd\u001b[49m\u001b[38;5;241m.\u001b[39mDataFrame()\n\u001b[0;32m      4\u001b[0m vif_df[\u001b[38;5;124m\"\u001b[39m\u001b[38;5;124mfeatures\u001b[39m\u001b[38;5;124m\"\u001b[39m] \u001b[38;5;241m=\u001b[39m X\u001b[38;5;241m.\u001b[39mcolumns\n\u001b[0;32m      5\u001b[0m vif_df[\u001b[38;5;124m\"\u001b[39m\u001b[38;5;124mVIF Factor\u001b[39m\u001b[38;5;124m\"\u001b[39m] \u001b[38;5;241m=\u001b[39m [vif(X\u001b[38;5;241m.\u001b[39mvalues, i) \u001b[38;5;28;01mfor\u001b[39;00m i \u001b[38;5;129;01min\u001b[39;00m \u001b[38;5;28mrange\u001b[39m(X\u001b[38;5;241m.\u001b[39mshape[\u001b[38;5;241m1\u001b[39m])]\n",
      "\u001b[1;31mNameError\u001b[0m: name 'pd' is not defined"
     ]
    }
   ],
   "source": [
    "from statsmodels.stats.outliers_influence import variance_inflation_factor as vif\n",
    " \n",
    "vif_df = pd.DataFrame()\n",
    "vif_df[\"features\"] = X.columns\n",
    "vif_df[\"VIF Factor\"] = [vif(X.values, i) for i in range(X.shape[1])]\n",
    "vif_df.round(2)"
   ]
  },
  {
   "cell_type": "code",
   "execution_count": null,
   "id": "b3ed81fa",
   "metadata": {},
   "outputs": [],
   "source": [
    "#ideally steps after getting a higher VIF value in a variable\n",
    "#X.drop('newspaper',axis=1,inplace=True)\n",
    "#rerun the VIF code if there are multiple higher VIF value variable\n",
    "#eliminate only one variable at a time which shows the highest VIF value\n",
    "#as the problematic variable gets eliminated the other variable will start having lower VIF values\n",
    "#acceptable VIF values is less than 5 or in some case less than 10"
   ]
  },
  {
   "cell_type": "code",
   "execution_count": null,
   "id": "46939110",
   "metadata": {},
   "outputs": [],
   "source": [
    "from sklearn.model_selection import train_test_split\n",
    "\n",
    "#Split the data into test and train\n",
    "X_train, X_test, Y_train, Y_test = train_test_split(X, Y, test_size=0.2, random_state=10)"
   ]
  },
  {
   "cell_type": "code",
   "execution_count": null,
   "id": "7a1060ad",
   "metadata": {},
   "outputs": [],
   "source": [
    "print(X_train.shape)\n",
    "print(X_test.shape)\n",
    "print(Y_train.shape)\n",
    "print(Y_test.shape)\n",
    "#print(\"Percent of train data\", X_train.shape[0]/X.shape[0]*100)\n",
    "#>1000---tes"
   ]
  },
  {
   "cell_type": "code",
   "execution_count": null,
   "id": "006d680c",
   "metadata": {},
   "outputs": [],
   "source": [
    "from sklearn.linear_model import LinearRegression\n",
    "#create a model object\n",
    "klm = LinearRegression()\n",
    "#train the model object\n",
    "klm.fit(X_train,Y_train)\n",
    "\n",
    "#print intercept and coefficients\n",
    "print(klm.intercept_)\n",
    "print(klm.coef_)"
   ]
  },
  {
   "cell_type": "code",
   "execution_count": null,
   "id": "184e7e69",
   "metadata": {},
   "outputs": [],
   "source": [
    "#pair the features name with the coefficients\n",
    "print(list(zip(X.columns,klm.coef_)))"
   ]
  },
  {
   "cell_type": "code",
   "execution_count": null,
   "id": "26ecac2e",
   "metadata": {},
   "outputs": [],
   "source": [
    "X1=100\n",
    "X2=100\n",
    "X3=np.log1p(100)\n",
    "Y_pred=3.3532913858151474+(0.0437425*X1)+(0.19303708*X2)+(-0.04895137*X3)\n",
    "print(Y_pred)"
   ]
  },
  {
   "cell_type": "code",
   "execution_count": null,
   "id": "428c73fb",
   "metadata": {},
   "outputs": [],
   "source": [
    "#predict using the model\n",
    "Y_pred = klm.predict(X_test)\n",
    "print(Y_pred)"
   ]
  },
  {
   "cell_type": "code",
   "execution_count": null,
   "id": "38f00a12",
   "metadata": {},
   "outputs": [],
   "source": [
    "new_df=pd.DataFrame()\n",
    "new_df=X_test.copy()\n",
    " \n",
    "new_df[\"Actual sales\"]=Y_test\n",
    "new_df[\"Predicted sales\"]=Y_pred\n",
    "new_df=new_df.reset_index().drop(\"index\", axis=1)"
   ]
  },
  {
   "cell_type": "code",
   "execution_count": null,
   "id": "bcf9dcdf",
   "metadata": {},
   "outputs": [],
   "source": [
    "new_df"
   ]
  },
  {
   "cell_type": "markdown",
   "id": "31304d29",
   "metadata": {},
   "source": [
    "# 21-10-2023"
   ]
  },
  {
   "cell_type": "code",
   "execution_count": null,
   "id": "581f7bae",
   "metadata": {},
   "outputs": [],
   "source": [
    "new_df['Actual sales'].plot(color='blue')\n",
    "new_df['Predicted sales'].plot(color='orange')\n",
    "plt.show()"
   ]
  },
  {
   "cell_type": "markdown",
   "id": "fe4d7ee6",
   "metadata": {},
   "source": [
    "# Evaluation Metrics\n"
   ]
  },
  {
   "cell_type": "code",
   "execution_count": null,
   "id": "6a0d335c",
   "metadata": {},
   "outputs": [],
   "source": [
    "klm.score(X_train,Y_train)"
   ]
  },
  {
   "cell_type": "code",
   "execution_count": null,
   "id": "84022181",
   "metadata": {},
   "outputs": [],
   "source": [
    "from sklearn.metrics import r2_score,mean_squared_error\n",
    "import numpy as np\n",
    " \n",
    "r2=r2_score(Y_test,Y_pred)\n",
    "print(\"R-squared:\",r2)\n",
    " \n",
    "rmse=np.sqrt(mean_squared_error(Y_test,Y_pred))\n",
    "print(\"RMSE:\",rmse)\n",
    " \n",
    "adjusted_r_squared = 1 - (1-r2)*(len(Y)-1)/(len(Y)-X.shape[1]-1)\n",
    "print(\"Adj R-square:\",adjusted_r_squared)\n"
   ]
  },
  {
   "cell_type": "code",
   "execution_count": null,
   "id": "0dfae616",
   "metadata": {},
   "outputs": [],
   "source": [
    "print(Y_test.min())\n",
    "print(Y_test.max())"
   ]
  },
  {
   "cell_type": "markdown",
   "id": "207a2366",
   "metadata": {},
   "source": [
    "# R square and  Adj R square  are close to 1 hence it is a good model as well the RMSE  value is close to lower value range of Y  test ."
   ]
  },
  {
   "cell_type": "code",
   "execution_count": null,
   "id": "70d278e7",
   "metadata": {},
   "outputs": [],
   "source": [
    "new_df['Residual']=new_df['Actual sales']-new_df['Predicted sales']\n",
    "#new_df.to_excel(\"Sales Prediction.xlsx\",header=True,index=True)\n",
    "new_df.head()"
   ]
  },
  {
   "cell_type": "code",
   "execution_count": null,
   "id": "198f7859",
   "metadata": {},
   "outputs": [],
   "source": [
    "from sklearn.linear_model import Ridge\n",
    "rid = Ridge()\n",
    "rid.fit(X_train,Y_train)\n",
    "\n",
    "print(rid.intercept_)\n",
    "print(rid.coef_)"
   ]
  },
  {
   "cell_type": "code",
   "execution_count": null,
   "id": "808d70a2",
   "metadata": {},
   "outputs": [],
   "source": [
    "Y_pred = rid.predict(X_test)"
   ]
  },
  {
   "cell_type": "code",
   "execution_count": null,
   "id": "d181dd2e",
   "metadata": {},
   "outputs": [],
   "source": [
    "from sklearn.metrics import r2_score,mean_squared_error\n",
    "import numpy as np\n",
    " \n",
    "r2=r2_score(Y_test,Y_pred)\n",
    "print(\"R-squared:\",r2)\n",
    " \n",
    "rmse=np.sqrt(mean_squared_error(Y_test,Y_pred))\n",
    "print(\"RMSE:\",rmse)\n",
    " \n",
    "adjusted_r_squared = 1 - (1-r2)*(len(Y)-1)/(len(Y)-X.shape[1]-1)\n",
    "print(\"Adj R-square:\",adjusted_r_squared)\n"
   ]
  },
  {
   "cell_type": "code",
   "execution_count": null,
   "id": "4d8ccb23",
   "metadata": {},
   "outputs": [],
   "source": [
    "from sklearn.linear_model import Lasso\n",
    "las = Lasso()\n",
    "las.fit(X_train,Y_train)\n",
    "\n",
    "print(las.intercept_)\n",
    "print(las.coef_)"
   ]
  },
  {
   "cell_type": "code",
   "execution_count": null,
   "id": "bde0e984",
   "metadata": {},
   "outputs": [],
   "source": [
    "Y_pred = las.predict(X_test)"
   ]
  },
  {
   "cell_type": "code",
   "execution_count": null,
   "id": "c845433c",
   "metadata": {},
   "outputs": [],
   "source": [
    "from sklearn.metrics import r2_score,mean_squared_error\n",
    "import numpy as np\n",
    " \n",
    "r2=r2_score(Y_test,Y_pred)\n",
    "print(\"R-squared:\",r2)\n",
    " \n",
    "rmse=np.sqrt(mean_squared_error(Y_test,Y_pred))\n",
    "print(\"RMSE:\",rmse)\n",
    " \n",
    "adjusted_r_squared = 1 - (1-r2)*(len(Y)-1)/(len(Y)-X.shape[1]-1)\n",
    "print(\"Adj R-square:\",adjusted_r_squared)"
   ]
  },
  {
   "cell_type": "markdown",
   "id": "878d10d7",
   "metadata": {},
   "source": [
    "# 22-10-2023"
   ]
  },
  {
   "cell_type": "code",
   "execution_count": null,
   "id": "b45a4e28",
   "metadata": {},
   "outputs": [],
   "source": [
    "#OLS --> OLS(Y_train, X_train)\n",
    "#ols --> ols(Y~X1+X2+X3)"
   ]
  },
  {
   "cell_type": "code",
   "execution_count": null,
   "id": "f9eb9e29",
   "metadata": {},
   "outputs": [],
   "source": [
    "#fit(X_train,Y_train)-->sklearn\n",
    "#Y~X1+X2+X3,data=df--> statsmodel"
   ]
  },
  {
   "cell_type": "code",
   "execution_count": null,
   "id": "4af38e72",
   "metadata": {},
   "outputs": [],
   "source": [
    "new_df=pd.DataFrame()\n",
    "new_df= X_train.copy()\n",
    "\n",
    "new_df['sales']=Y_train.copy()\n",
    "new_df.shape"
   ]
  },
  {
   "cell_type": "code",
   "execution_count": null,
   "id": "6fb22e27",
   "metadata": {},
   "outputs": [],
   "source": [
    "import statsmodels.formula.api as sm\n",
    "#create a fitted model with all three features\n",
    "lm_model = sm.ols(formula='sales ~ TV + radio ',\n",
    "                 data=new_df).fit()\n",
    "\n",
    "#print the coefficients\n",
    "print(lm_model.params)\n",
    "print(lm_model.summary())\n",
    "\n",
    "'''\n",
    "3.3532913858151545\n",
    "[ 0.0437425   0.19303708 -0.04895137]\n",
    "\n",
    "'''"
   ]
  },
  {
   "cell_type": "code",
   "execution_count": null,
   "id": "39eb738d",
   "metadata": {},
   "outputs": [],
   "source": [
    "# Note : Assumption No.5 : There should  be no auto-correlation in the data.\n",
    "#Post Model Building\n",
    "# Durbin-Watson Statistical Test (Found in Time Series Data) Range from 0 to 4.\n",
    "# If the DW Test value is close to 2 then there is no auto correlation in the data.\n",
    "# If the DW Test value is close to 0 then there is POSITIVE auto correlation in the data.\n",
    "# If the DW Test value is close to 4 then there is NEGATIVE auto correlation in the data.\n"
   ]
  },
  {
   "cell_type": "code",
   "execution_count": null,
   "id": "3be3ae98",
   "metadata": {},
   "outputs": [],
   "source": [
    "Y_pred_New = lm_model.predict(X_test)"
   ]
  },
  {
   "cell_type": "code",
   "execution_count": null,
   "id": "a7ad36c6",
   "metadata": {},
   "outputs": [],
   "source": [
    "from sklearn.metrics import r2_score,mean_squared_error\n",
    "import numpy as np\n",
    " \n",
    "r2=r2_score(Y_test,Y_pred_New)\n",
    "print(\"R-squared:\",r2)\n",
    " \n",
    "rmse=np.sqrt(mean_squared_error(Y_test,Y_pred_New))\n",
    "print(\"RMSE:\",rmse)\n",
    " \n",
    "adjusted_r_squared = 1 - (1-r2)*(len(Y)-1)/(len(Y)-X.shape[1]-1)\n",
    "print(\"Adj R-square:\",adjusted_r_squared)"
   ]
  },
  {
   "cell_type": "code",
   "execution_count": null,
   "id": "e11a162f",
   "metadata": {},
   "outputs": [],
   "source": [
    "Y_pred_Newer = lm_model.predict(X_test)"
   ]
  },
  {
   "cell_type": "code",
   "execution_count": null,
   "id": "e1457f2e",
   "metadata": {},
   "outputs": [],
   "source": [
    "from sklearn.metrics import r2_score,mean_squared_error\n",
    "import numpy as np\n",
    " \n",
    "r2=r2_score(Y_test,Y_pred_Newer)\n",
    "print(\"R-squared:\",r2)\n",
    " \n",
    "rmse=np.sqrt(mean_squared_error(Y_test,Y_pred_Newer))\n",
    "print(\"RMSE:\",rmse)\n",
    " \n",
    "adjusted_r_squared = 1 - (1-r2)*(len(Y)-1)/(len(Y)-X.shape[1]-1)\n",
    "print(\"Adj R-square:\",adjusted_r_squared)"
   ]
  },
  {
   "cell_type": "code",
   "execution_count": null,
   "id": "55a57a9c",
   "metadata": {},
   "outputs": [],
   "source": [
    "#Assumption: Errors should be random\n",
    "#checked using Residual v/s Fitted plot\n",
    "model_fitted_y = lm_model.fittedvalues\n",
    "sns.residplot(x=model_fitted_y, y='sales', data=new_df, lowess=True)\n",
    "plt.xlabel('Fitted values')\n",
    "plt.ylabel('Residuals')\n",
    "plt.show()\n",
    "#obs-->The line should be  a random line and should not follow a wave like pattern or any other pattern"
   ]
  },
  {
   "cell_type": "code",
   "execution_count": null,
   "id": "5051748e",
   "metadata": {},
   "outputs": [],
   "source": [
    "#Assumption: Errors should follow a approximate normal distribution\n",
    "#checked using Normal QQ plot\n",
    "import statsmodels.api as sma\n",
    "sma.qqplot(lm_model.resid, line='s')\n",
    "\n",
    "#Obs-->Error points should follow the red diagonal line.\n",
    "#The Normal QQ plot is used to compare a given set of values with standard normal distributed data(theoretical quantiles)"
   ]
  },
  {
   "cell_type": "code",
   "execution_count": null,
   "id": "303be559",
   "metadata": {},
   "outputs": [],
   "source": [
    "#Assumption: Errors should follow a constant variance-->Homoskedasticity\n",
    "#checked using Scale location plot\n",
    "model_norm_residuals_abs_sqrt=np.sqrt(np.abs(lm_model.resid))\n",
    " \n",
    "sns.regplot(x=lm_model.fittedvalues,\n",
    "            y= model_norm_residuals_abs_sqrt,\n",
    "              scatter=True, lowess=True)        \n",
    "plt.ylabel(\"Standarized residuals\")\n",
    "plt.xlabel(\"Fitted value\")\n",
    "plt.show()\n",
    "#the line should be an approximate line and should not have a steep angle or a v-shape like."
   ]
  },
  {
   "cell_type": "markdown",
   "id": "55011ad4",
   "metadata": {},
   "source": [
    "Steps for Linear Regression:\n",
    "1. *Create the dataframe properly-->pd.read_csv(),pd.read_excel()\n",
    "2. *Preprocessing the data:\n",
    "a. Feature selection-->domain knowledge,drop()\n",
    "b. Handling missing values-->isnull().sum(),fillna(),dropna()\n",
    "3. Assumption 1: There should be no outliers in the data-->boxplot()\n",
    "4. *Assumption 2: Assumption of Linearity:Every ind var should have a linear relationship with the dep var-->pairplot(), drop()\n",
    "5. *Create X and Y-->X=ind var, Y=dep var\n",
    "6. Assumption 3: Assumption of Normality: The dependent variable should follow an approximate normal distribtion-->distplot(),log()\n",
    "7. Checking and handling the skewness in the X vars-->skew(),hist(),log1p()\n",
    "8. Assumption 4: Assumption of no multicollinearity: There should be no multicollinearity between the independent variables-->corr(),heatmap(),vif(),drop()\n",
    "9. *Splitting the data into train and test(validation)-->train_test_split()\n",
    "10. *Building the model:\n",
    "a. Create the model-->obj=AlgoName()\n",
    "b. Train the model-->obj.fit(X_train, Y_train)\n",
    "c. Predict using the model-->Y_pred=obj.predict(X_test)\n",
    "11. *Evaluating the model:\n",
    "R-squared, Adj R-squared, RMSE, AIC/BIC\n",
    "12. Assumption 5: There should be no auto-correlation in the data-->Durbin Watson test\n",
    "13. Assumption 6: Errors should be random-->Fitted v/s Residual plot\n",
    "14. Assumption 7: Errors should follow an approx normal distribution-->Normal QQ plot\n",
    "15. Assumption 8: Errors should should follow a constant variance(Homoskedasticity)-->Scale Location plot\n",
    "16. *Tuning the model:\n",
    "a. Feature selection-->p-values,domain knowledge\n",
    "b. Regularization techniques-->Ridge(), Lasso()\n",
    "c. Stochastic Gradient Descent-->SGDRegressor()"
   ]
  },
  {
   "cell_type": "code",
   "execution_count": null,
   "id": "f5ed7f33",
   "metadata": {},
   "outputs": [],
   "source": []
  }
 ],
 "metadata": {
  "kernelspec": {
   "display_name": "Python 3 (ipykernel)",
   "language": "python",
   "name": "python3"
  },
  "language_info": {
   "codemirror_mode": {
    "name": "ipython",
    "version": 3
   },
   "file_extension": ".py",
   "mimetype": "text/x-python",
   "name": "python",
   "nbconvert_exporter": "python",
   "pygments_lexer": "ipython3",
   "version": "3.10.9"
  }
 },
 "nbformat": 4,
 "nbformat_minor": 5
}
